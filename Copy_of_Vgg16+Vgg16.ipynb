{
  "nbformat": 4,
  "nbformat_minor": 0,
  "metadata": {
    "colab": {
      "provenance": [],
      "authorship_tag": "ABX9TyPIP6x2+u/GVURWXXZ2fWpJ",
      "include_colab_link": true
    },
    "kernelspec": {
      "name": "python3",
      "display_name": "Python 3"
    },
    "language_info": {
      "name": "python"
    }
  },
  "cells": [
    {
      "cell_type": "markdown",
      "metadata": {
        "id": "view-in-github",
        "colab_type": "text"
      },
      "source": [
        "<a href=\"https://colab.research.google.com/github/Harish34272/Predictive-modellling-for-glaucoma-prediction-/blob/main/Copy_of_Vgg16%2BVgg16.ipynb\" target=\"_parent\"><img src=\"https://colab.research.google.com/assets/colab-badge.svg\" alt=\"Open In Colab\"/></a>"
      ]
    },
    {
      "cell_type": "code",
      "execution_count": null,
      "metadata": {
        "id": "3qn0F9VyKekB",
        "colab": {
          "base_uri": "https://localhost:8080/"
        },
        "outputId": "b8f38dc0-cb55-4320-970b-e0ccca1476f0"
      },
      "outputs": [
        {
          "output_type": "stream",
          "name": "stdout",
          "text": [
            "Mounted at /content/drive\n"
          ]
        }
      ],
      "source": [
        "from google.colab import drive\n",
        "drive.mount('/content/drive')"
      ]
    },
    {
      "cell_type": "code",
      "source": [
        "import cv2\n",
        "import os\n",
        "import numpy as np\n",
        "import pandas as pd\n",
        "import matplotlib.pyplot as plt\n",
        "import seaborn as sns\n",
        "import tensorflow as tf\n",
        "from keras.models import Sequential, Model , load_model\n",
        "from keras.preprocessing.image import ImageDataGenerator , load_img, img_to_array\n",
        "from keras.optimizers import Adam\n",
        "from keras.applications import VGG16,ResNet50\n",
        "from keras.layers import Dense ,Flatten , Conv2D, MaxPooling2D, UpSampling2D, MaxPool2D, BatchNormalization, Activation , Add , Input , Average\n",
        "from keras.layers import GlobalAveragePooling2D , Lambda\n",
        "from scipy.signal.windows import gaussian\n",
        "from sklearn.metrics import accuracy_score, precision_score, recall_score, f1_score, confusion_matrix\n",
        "from sklearn.metrics import roc_curve, auc,classification_report, confusion_matrix\n",
        "from sklearn.utils.class_weight import compute_class_weight\n",
        "from keras.callbacks import ModelCheckpoint,EarlyStopping\n",
        "from imblearn.over_sampling import RandomOverSampler\n",
        "from keras.utils import to_categorical\n",
        "from sklearn.model_selection import train_test_split\n",
        "clahe = cv2.createCLAHE(clipLimit=3.0, tileGridSize=(8,8))"
      ],
      "metadata": {
        "id": "NlBF7duUKiw9"
      },
      "execution_count": null,
      "outputs": []
    },
    {
      "cell_type": "code",
      "source": [
        "img_height = 224\n",
        "img_width = 224\n",
        "batch_size = 32\n",
        "base_dirs = {\n",
        "    'train': r'/content/drive/MyDrive/datasets/real_combined_last_dataset/train',\n",
        "    'test': r'/content/drive/MyDrive/datasets/real_combined_last_dataset/test',\n",
        "    'val': r'/content/drive/MyDrive/datasets/real_combined_last_dataset/val'\n",
        "}"
      ],
      "metadata": {
        "id": "OP-QGBX4K8vX"
      },
      "execution_count": null,
      "outputs": []
    },
    {
      "cell_type": "code",
      "source": [
        "datagen_minority = ImageDataGenerator(\n",
        "    rescale=1./255,\n",
        "    rotation_range=40,  # Increase rotation range for more diversity\n",
        "    width_shift_range=0.3,\n",
        "\n",
        "    height_shift_range=0.3,\n",
        "    shear_range=0.25,\n",
        "    zoom_range=0.25,\n",
        "    horizontal_flip=True,\n",
        "    vertical_flip=True,\n",
        "    fill_mode='nearest'\n",
        ")\n",
        "\n",
        "def data_generator(directory):\n",
        "    # Use 'datagen_minority' for minority classes and 'datagen' for others\n",
        "    if 'normal' or 'early_glaucoma' in directory:\n",
        "        return datagen_minority.flow_from_directory(\n",
        "            directory,\n",
        "            target_size=(img_height, img_width),\n",
        "            batch_size=32,\n",
        "            class_mode='categorical',\n",
        "            shuffle=False,\n",
        "            seed=42\n",
        "        )\n",
        "    else:\n",
        "        return datagen.flow_from_directory(\n",
        "            directory,\n",
        "            target_size=(img_height, img_width),\n",
        "            batch_size=32,\n",
        "            class_mode='categorical',\n",
        "            shuffle=False,\n",
        "            seed=42\n",
        "        )\n",
        "\n",
        "train_ds = data_generator(base_dirs['train'])\n",
        "test_ds = data_generator(base_dirs['test'])\n",
        "val_ds = data_generator(base_dirs['val'])\n",
        "\n",
        "# Assuming labels are directly associated with filenames in the training directory\n",
        "class_indices = {'glaucoma': 1, 'normal': 0, 'early_glaucoma': 2}\n",
        "train_ds.class_indices = class_indices\n",
        "test_ds.class_indices = class_indices\n",
        "val_ds.class_indices = class_indices\n",
        "\n",
        "train_ds.classes = np.array([class_indices[label.split('/')[0]] for label in train_ds.filenames])\n",
        "\n",
        "print(\"Length of training labels:\", len(train_ds.classes))\n",
        "print(\"Number of images in the training directory:\", len(train_ds.filenames))\n",
        "print(f\"Class indices in \", test_ds.class_indices)"
      ],
      "metadata": {
        "colab": {
          "base_uri": "https://localhost:8080/"
        },
        "id": "0v1NISTgK_d_",
        "outputId": "ea3ccc52-9a79-48d9-f041-b21329e2a585"
      },
      "execution_count": null,
      "outputs": [
        {
          "output_type": "stream",
          "name": "stdout",
          "text": [
            "Found 6207 images belonging to 3 classes.\n",
            "Found 819 images belonging to 3 classes.\n",
            "Found 801 images belonging to 3 classes.\n",
            "Length of training labels: 6207\n",
            "Number of images in the training directory: 6207\n",
            "Class indices in  {'glaucoma': 1, 'normal': 0, 'early_glaucoma': 2}\n"
          ]
        }
      ]
    },
    {
      "cell_type": "code",
      "source": [
        "#glaucoma model\n",
        "model_g = load_model('/content/drive/MyDrive/datasets/real_combined_last_dataset/model_vgg16(10epoch).keras')\n",
        "#glaucoma\n",
        "model_ng = load_model('/content/drive/MyDrive/datasets/real_combined_last_dataset/recent Copy of single vgg16.keras')\n",
        "\n",
        "model_e = load_model('/content/drive/MyDrive/datasets/real_combined_last_dataset2/vgg16_2(real_dataset_2).keras')\n",
        "\n",
        "#model_n = load_model('/content/drive/MyDrive/datasets/real_combined_last_dataset/glaucoma.keras')"
      ],
      "metadata": {
        "id": "kSHy_dBcLDa0"
      },
      "execution_count": null,
      "outputs": []
    },
    {
      "cell_type": "code",
      "source": [
        "import numpy as np\n",
        "weight_model_g = 1\n",
        "weight_model_ng = 15.0\n",
        "# Generate predictions for the test dataset using both models\n",
        "predictions_g = model_g.predict(test_ds)\n",
        "predictions_ng = model_ng.predict(test_ds)\n",
        "prediction_e = model_e.predict(test_ds)\n",
        "#prediction_n = model_n.predict(test_ds)"
      ],
      "metadata": {
        "colab": {
          "base_uri": "https://localhost:8080/"
        },
        "id": "WFLSXAf9Lp-B",
        "outputId": "4b49ffbf-ed7e-4551-bfa7-7fe464e6b0e9"
      },
      "execution_count": null,
      "outputs": [
        {
          "output_type": "stream",
          "name": "stdout",
          "text": [
            "26/26 [==============================] - 724s 28s/step\n",
            "26/26 [==============================] - 19s 736ms/step\n",
            "26/26 [==============================] - 21s 818ms/step\n"
          ]
        }
      ]
    },
    {
      "cell_type": "code",
      "source": [
        "# Combine predictions by taking the average\n",
        "#ensemble_predictions = (predictions_g + predictions_ng) / 2.0\n",
        "weight_model_e = 1.0\n",
        "ensemble_predictions =  (weight_model_g * predictions_g) + (weight_model_ng * predictions_ng)+(weight_model_e * prediction_e)\n",
        "# The final ensemble prediction is the class with the highest probability\n",
        "final_predictions = np.argmax(ensemble_predictions, axis=1)\n"
      ],
      "metadata": {
        "id": "XA2xi6Dink05"
      },
      "execution_count": null,
      "outputs": []
    },
    {
      "cell_type": "code",
      "source": [
        "from datetime import datetime\n",
        "# Create Input layer\n",
        "input_layer = Input(shape=(img_height, img_width, 3))\n",
        "\n",
        "# Wrap each model inside a Lambda layer to give them unique names\n",
        "model_g_lambda = Lambda(lambda x: model_g(x), name=\"model_g\")(input_layer)\n",
        "model_ng_lambda = Lambda(lambda x: model_ng(x), name=\"model_ng\")(input_layer)\n",
        "\n",
        "# Create an Average layer to combine predictions\n",
        "average_layer = Average()([model_g_lambda, model_ng_lambda])\n",
        "\n",
        "# Build the ensemble model\n",
        "ensemble_model = Model(inputs=input_layer, outputs=average_layer)\n",
        "\n",
        "# Save the ensemble model to a file\n",
        "#timestamp = datetime.now().strftime(\"%Y%m%d%H%M%S\")\n",
        "#ensemble_model.save(f'/content/drive/MyDrive/datasets/real_combined_last_dataset/recent_ensemble_model_{timestamp}.keras')"
      ],
      "metadata": {
        "id": "FWGRsU_XU5Jn",
        "colab": {
          "base_uri": "https://localhost:8080/"
        },
        "outputId": "8af0b962-6413-46a0-ab66-794a9eb68e3c"
      },
      "execution_count": null,
      "outputs": [
        {
          "output_type": "stream",
          "name": "stderr",
          "text": [
            "WARNING:tensorflow:\n",
            "The following Variables were used a Lambda layer's call (model_g), but\n",
            "are not present in its tracked objects:\n",
            "  <tf.Variable 'conv2d_5/kernel:0' shape=(3, 3, 3, 64) dtype=float32>\n",
            "  <tf.Variable 'conv2d_5/bias:0' shape=(64,) dtype=float32>\n",
            "  <tf.Variable 'batch_normalization_4/gamma:0' shape=(64,) dtype=float32>\n",
            "  <tf.Variable 'batch_normalization_4/beta:0' shape=(64,) dtype=float32>\n",
            "  <tf.Variable 'conv2d_6/kernel:0' shape=(3, 3, 64, 64) dtype=float32>\n",
            "  <tf.Variable 'conv2d_6/bias:0' shape=(64,) dtype=float32>\n",
            "  <tf.Variable 'batch_normalization_5/gamma:0' shape=(64,) dtype=float32>\n",
            "  <tf.Variable 'batch_normalization_5/beta:0' shape=(64,) dtype=float32>\n",
            "  <tf.Variable 'conv2d_7/kernel:0' shape=(3, 3, 64, 128) dtype=float32>\n",
            "  <tf.Variable 'conv2d_7/bias:0' shape=(128,) dtype=float32>\n",
            "  <tf.Variable 'batch_normalization_6/gamma:0' shape=(128,) dtype=float32>\n",
            "  <tf.Variable 'batch_normalization_6/beta:0' shape=(128,) dtype=float32>\n",
            "  <tf.Variable 'conv2d_8/kernel:0' shape=(3, 3, 128, 128) dtype=float32>\n",
            "  <tf.Variable 'conv2d_8/bias:0' shape=(128,) dtype=float32>\n",
            "  <tf.Variable 'batch_normalization_7/gamma:0' shape=(128,) dtype=float32>\n",
            "  <tf.Variable 'batch_normalization_7/beta:0' shape=(128,) dtype=float32>\n",
            "  <tf.Variable 'conv2d_9/kernel:0' shape=(1, 1, 128, 1) dtype=float32>\n",
            "  <tf.Variable 'conv2d_9/bias:0' shape=(1,) dtype=float32>\n",
            "  <tf.Variable 'conv2d/kernel:0' shape=(3, 3, 1, 64) dtype=float32>\n",
            "  <tf.Variable 'conv2d/bias:0' shape=(64,) dtype=float32>\n",
            "  <tf.Variable 'conv2d_1/kernel:0' shape=(3, 3, 64, 64) dtype=float32>\n",
            "  <tf.Variable 'conv2d_1/bias:0' shape=(64,) dtype=float32>\n",
            "  <tf.Variable 'conv2d_2/kernel:0' shape=(3, 3, 64, 128) dtype=float32>\n",
            "  <tf.Variable 'conv2d_2/bias:0' shape=(128,) dtype=float32>\n",
            "  <tf.Variable 'conv2d_3/kernel:0' shape=(3, 3, 128, 128) dtype=float32>\n",
            "  <tf.Variable 'conv2d_3/bias:0' shape=(128,) dtype=float32>\n",
            "  <tf.Variable 'conv2d_4/kernel:0' shape=(3, 3, 128, 256) dtype=float32>\n",
            "  <tf.Variable 'conv2d_4/bias:0' shape=(256,) dtype=float32>\n",
            "  <tf.Variable 'conv2d_5/kernel:0' shape=(3, 3, 256, 256) dtype=float32>\n",
            "  <tf.Variable 'conv2d_5/bias:0' shape=(256,) dtype=float32>\n",
            "  <tf.Variable 'conv2d_6/kernel:0' shape=(3, 3, 256, 256) dtype=float32>\n",
            "  <tf.Variable 'conv2d_6/bias:0' shape=(256,) dtype=float32>\n",
            "  <tf.Variable 'conv2d_7/kernel:0' shape=(3, 3, 256, 512) dtype=float32>\n",
            "  <tf.Variable 'conv2d_7/bias:0' shape=(512,) dtype=float32>\n",
            "  <tf.Variable 'conv2d_8/kernel:0' shape=(3, 3, 512, 512) dtype=float32>\n",
            "  <tf.Variable 'conv2d_8/bias:0' shape=(512,) dtype=float32>\n",
            "  <tf.Variable 'conv2d_9/kernel:0' shape=(3, 3, 512, 512) dtype=float32>\n",
            "  <tf.Variable 'conv2d_9/bias:0' shape=(512,) dtype=float32>\n",
            "  <tf.Variable 'conv2d_10/kernel:0' shape=(3, 3, 512, 512) dtype=float32>\n",
            "  <tf.Variable 'conv2d_10/bias:0' shape=(512,) dtype=float32>\n",
            "  <tf.Variable 'conv2d_11/kernel:0' shape=(3, 3, 512, 512) dtype=float32>\n",
            "  <tf.Variable 'conv2d_11/bias:0' shape=(512,) dtype=float32>\n",
            "  <tf.Variable 'conv2d_12/kernel:0' shape=(3, 3, 512, 512) dtype=float32>\n",
            "  <tf.Variable 'conv2d_12/bias:0' shape=(512,) dtype=float32>\n",
            "  <tf.Variable 'dense/kernel:0' shape=(25088, 4096) dtype=float32>\n",
            "  <tf.Variable 'dense/bias:0' shape=(4096,) dtype=float32>\n",
            "  <tf.Variable 'dense_1/kernel:0' shape=(4096, 4096) dtype=float32>\n",
            "  <tf.Variable 'dense_1/bias:0' shape=(4096,) dtype=float32>\n",
            "  <tf.Variable 'dense_2/kernel:0' shape=(4096, 3) dtype=float32>\n",
            "  <tf.Variable 'dense_2/bias:0' shape=(3,) dtype=float32>\n",
            "It is possible that this is intended behavior, but it is more likely\n",
            "an omission. This is a strong indication that this layer should be\n",
            "formulated as a subclassed Layer rather than a Lambda layer.\n",
            "WARNING:tensorflow:\n",
            "The following Variables were used a Lambda layer's call (model_ng), but\n",
            "are not present in its tracked objects:\n",
            "  <tf.Variable 'block1_conv1/kernel:0' shape=(3, 3, 3, 64) dtype=float32>\n",
            "  <tf.Variable 'block1_conv1/bias:0' shape=(64,) dtype=float32>\n",
            "  <tf.Variable 'block1_conv2/kernel:0' shape=(3, 3, 64, 64) dtype=float32>\n",
            "  <tf.Variable 'block1_conv2/bias:0' shape=(64,) dtype=float32>\n",
            "  <tf.Variable 'block2_conv1/kernel:0' shape=(3, 3, 64, 128) dtype=float32>\n",
            "  <tf.Variable 'block2_conv1/bias:0' shape=(128,) dtype=float32>\n",
            "  <tf.Variable 'block2_conv2/kernel:0' shape=(3, 3, 128, 128) dtype=float32>\n",
            "  <tf.Variable 'block2_conv2/bias:0' shape=(128,) dtype=float32>\n",
            "  <tf.Variable 'block3_conv1/kernel:0' shape=(3, 3, 128, 256) dtype=float32>\n",
            "  <tf.Variable 'block3_conv1/bias:0' shape=(256,) dtype=float32>\n",
            "  <tf.Variable 'block3_conv2/kernel:0' shape=(3, 3, 256, 256) dtype=float32>\n",
            "  <tf.Variable 'block3_conv2/bias:0' shape=(256,) dtype=float32>\n",
            "  <tf.Variable 'block3_conv3/kernel:0' shape=(3, 3, 256, 256) dtype=float32>\n",
            "  <tf.Variable 'block3_conv3/bias:0' shape=(256,) dtype=float32>\n",
            "  <tf.Variable 'block4_conv1/kernel:0' shape=(3, 3, 256, 512) dtype=float32>\n",
            "  <tf.Variable 'block4_conv1/bias:0' shape=(512,) dtype=float32>\n",
            "  <tf.Variable 'block4_conv2/kernel:0' shape=(3, 3, 512, 512) dtype=float32>\n",
            "  <tf.Variable 'block4_conv2/bias:0' shape=(512,) dtype=float32>\n",
            "  <tf.Variable 'block4_conv3/kernel:0' shape=(3, 3, 512, 512) dtype=float32>\n",
            "  <tf.Variable 'block4_conv3/bias:0' shape=(512,) dtype=float32>\n",
            "  <tf.Variable 'block5_conv1/kernel:0' shape=(3, 3, 512, 512) dtype=float32>\n",
            "  <tf.Variable 'block5_conv1/bias:0' shape=(512,) dtype=float32>\n",
            "  <tf.Variable 'block5_conv2/kernel:0' shape=(3, 3, 512, 512) dtype=float32>\n",
            "  <tf.Variable 'block5_conv2/bias:0' shape=(512,) dtype=float32>\n",
            "  <tf.Variable 'block5_conv3/kernel:0' shape=(3, 3, 512, 512) dtype=float32>\n",
            "  <tf.Variable 'block5_conv3/bias:0' shape=(512,) dtype=float32>\n",
            "  <tf.Variable 'dense/kernel:0' shape=(512, 4096) dtype=float32>\n",
            "  <tf.Variable 'dense/bias:0' shape=(4096,) dtype=float32>\n",
            "  <tf.Variable 'dense_1/kernel:0' shape=(4096, 4096) dtype=float32>\n",
            "  <tf.Variable 'dense_1/bias:0' shape=(4096,) dtype=float32>\n",
            "  <tf.Variable 'dense_2/kernel:0' shape=(4096, 3) dtype=float32>\n",
            "  <tf.Variable 'dense_2/bias:0' shape=(3,) dtype=float32>\n",
            "It is possible that this is intended behavior, but it is more likely\n",
            "an omission. This is a strong indication that this layer should be\n",
            "formulated as a subclassed Layer rather than a Lambda layer.\n"
          ]
        }
      ]
    },
    {
      "cell_type": "code",
      "source": [
        "class_names = list(test_ds.class_indices.keys())  # Assuming test_ds.class_indices contains the mapping of class indices to class names\n",
        "true_labels = test_ds.classes\n",
        "\n",
        "report = classification_report(true_labels, final_predictions, target_names=class_names)\n",
        "\n",
        "print(\"Classification Report:\\n\", report)"
      ],
      "metadata": {
        "colab": {
          "base_uri": "https://localhost:8080/"
        },
        "id": "5gxNClQErtQh",
        "outputId": "986b065f-4bd3-4189-dc83-9fc61d1fa866"
      },
      "execution_count": null,
      "outputs": [
        {
          "output_type": "stream",
          "name": "stdout",
          "text": [
            "                precision    recall  f1-score   support\n",
            "                                                       \n",
            "       glaucoma      0.30      1.00      0.46      58.0\n",
            "         normal      0.74      0.81      0.78     571.0\n",
            " early_glaucoma      0.69      1.00      0.69     190.0\n",
            "                                                       \n",
            "       accuracy                          0.70       819\n",
            "      macro avg      0.35      0.60      0.41     819.0\n",
            "   weighted avg      0.54      0.64      0.57     819.0\n",
            "\n",
            "\n"
          ]
        },
        {
          "output_type": "stream",
          "name": "stderr",
          "text": [
            "/usr/local/lib/python3.10/dist-packages/sklearn/metrics/_classification.py:1344: UndefinedMetricWarning: Precision and F-score are ill-defined and being set to 0.0 in labels with no predicted samples. Use `zero_division` parameter to control this behavior.\n",
            "  _warn_prf(average, modifier, msg_start, len(result))\n",
            "/usr/local/lib/python3.10/dist-packages/sklearn/metrics/_classification.py:1344: UndefinedMetricWarning: Precision and F-score are ill-defined and being set to 0.0 in labels with no predicted samples. Use `zero_division` parameter to control this behavior.\n",
            "  _warn_prf(average, modifier, msg_start, len(result))\n",
            "/usr/local/lib/python3.10/dist-packages/sklearn/metrics/_classification.py:1344: UndefinedMetricWarning: Precision and F-score are ill-defined and being set to 0.0 in labels with no predicted samples. Use `zero_division` parameter to control this behavior.\n",
            "  _warn_prf(average, modifier, msg_start, len(result))\n"
          ]
        }
      ]
    },
    {
      "cell_type": "code",
      "source": [],
      "metadata": {
        "colab": {
          "base_uri": "https://localhost:8080/",
          "height": 564
        },
        "id": "bK1yz5_QMRhw",
        "outputId": "03824e72-d974-48f7-e94e-1ea84a7aab8e"
      },
      "execution_count": null,
      "outputs": [
        {
          "output_type": "display_data",
          "data": {
            "text/plain": [
              "<Figure size 800x600 with 2 Axes>"
            ],
            "image/png": "[encoded data removed]"
          },
          "metadata": {}
        }
      ]
    },
    {
      "cell_type": "code",
      "source": [
        "class_names = list(test_ds.class_indices.keys())  # Assuming test_ds.class_indices contains the mapping of class indices to class names\n",
        "true_labels = test_ds.classes\n",
        "\n",
        "report = classification_report(true_labels, final_predictions, target_names=class_names)\n",
        "\n",
        "print(\"Classification Report:\\n\", report)"
      ],
      "metadata": {
        "colab": {
          "base_uri": "https://localhost:8080/"
        },
        "id": "67RpFIcrPHth",
        "outputId": "b8f9930a-2541-4bd5-8e20-1d4a71af2d25"
      },
      "execution_count": null,
      "outputs": [
        {
          "output_type": "stream",
          "name": "stdout",
          "text": [
            "Classification Report:\n",
            "                 precision    recall  f1-score   support\n",
            "\n",
            "      glaucoma       0.30      1.00      0.46        58\n",
            "        normal       0.74      0.81      0.78       571\n",
            "early_glaucoma       0.00      0.00      0.00       190\n",
            "\n",
            "      accuracy                           0.64       819\n",
            "     macro avg       0.35      0.60      0.41       819\n",
            "  weighted avg       0.54      0.64      0.57       819\n",
            "\n"
          ]
        },
        {
          "output_type": "stream",
          "name": "stderr",
          "text": [
            "/usr/local/lib/python3.10/dist-packages/sklearn/metrics/_classification.py:1344: UndefinedMetricWarning: Precision and F-score are ill-defined and being set to 0.0 in labels with no predicted samples. Use `zero_division` parameter to control this behavior.\n",
            "  _warn_prf(average, modifier, msg_start, len(result))\n",
            "/usr/local/lib/python3.10/dist-packages/sklearn/metrics/_classification.py:1344: UndefinedMetricWarning: Precision and F-score are ill-defined and being set to 0.0 in labels with no predicted samples. Use `zero_division` parameter to control this behavior.\n",
            "  _warn_prf(average, modifier, msg_start, len(result))\n",
            "/usr/local/lib/python3.10/dist-packages/sklearn/metrics/_classification.py:1344: UndefinedMetricWarning: Precision and F-score are ill-defined and being set to 0.0 in labels with no predicted samples. Use `zero_division` parameter to control this behavior.\n",
            "  _warn_prf(average, modifier, msg_start, len(result))\n"
          ]
        }
      ]
    },
    {
      "cell_type": "code",
      "source": [
        "import cv2\n",
        "import numpy as np\n",
        "\n",
        "def preprocess_image(image_path):\n",
        "    # Read the image\n",
        "    img = cv2.imread(image_path)\n",
        "    # Resize the image to match the model's expected sizing\n",
        "    img = cv2.resize(img, (224, 224))\n",
        "    # Expand the dimensions to match the model's expected input shape\n",
        "    img = np.expand_dims(img, axis=0)\n",
        "    # Normalize the pixel values to be between 0 and 1\n",
        "    img = img / 255.0\n",
        "    return img\n"
      ],
      "metadata": {
        "id": "Ad-b-liNTWlq"
      },
      "execution_count": null,
      "outputs": []
    },
    {
      "cell_type": "code",
      "source": [
        "def predict_class(model, image_path):\n",
        "    # Preprocess the image\n",
        "    img = preprocess_image(image_path)\n",
        "    # Make predictions\n",
        "    predictions = model.predict(img)\n",
        "    # Get the predicted class index\n",
        "    predicted_class_index = np.argmax(predictions)\n",
        "    return predicted_class_index\n"
      ],
      "metadata": {
        "id": "YE2Q4-o8TXU_"
      },
      "execution_count": null,
      "outputs": []
    },
    {
      "cell_type": "code",
      "source": [
        "{'glaucoma': 1, 'normal': 0, 'early_glaucoma': 2}"
      ],
      "metadata": {
        "colab": {
          "base_uri": "https://localhost:8080/"
        },
        "id": "03Kk-8aG_ECx",
        "outputId": "22791a0d-4628-4921-a85f-6266093c00b2"
      },
      "execution_count": null,
      "outputs": [
        {
          "output_type": "execute_result",
          "data": {
            "text/plain": [
              "{'glaucoma': 1, 'normal': 0, 'early_glaucoma': 2}"
            ]
          },
          "metadata": {},
          "execution_count": 14
        }
      ]
    },
    {
      "cell_type": "code",
      "source": [
        "def get_class_label(predicted_class_index):\n",
        "    class_labels = [ 'glaucoma','normal','early_glaucoma']\n",
        "    return class_labels[predicted_class_index]"
      ],
      "metadata": {
        "id": "OixhLg2LTaYw"
      },
      "execution_count": null,
      "outputs": []
    },
    {
      "cell_type": "code",
      "source": [
        "image_path = '/content/drive/MyDrive/datasets/real_combined_last_dataset/train/early_glaucoma/232.png'\n",
        "predicted_index = predict_class(ensemble_model, image_path)\n",
        "predicted_label = get_class_label(predicted_index)\n",
        "print(f\"The predicted label for the image is: early_glaucoma\")"
      ],
      "metadata": {
        "colab": {
          "base_uri": "https://localhost:8080/"
        },
        "id": "rNhnYlhgTenv",
        "outputId": "715e0daa-6792-4ea3-9ef8-b495e45f3a7e"
      },
      "execution_count": null,
      "outputs": [
        {
          "output_type": "stream",
          "name": "stdout",
          "text": [
            "1/1 [==============================] - 0s 19ms/step\n",
            "The predicted label for the image is: early_glaucoma\n"
          ]
        }
      ]
    },
    {
      "cell_type": "code",
      "source": [
        "image_path = '/content/drive/MyDrive/datasets/real_combined_last_dataset/test/normal/053.jpg'\n",
        "\n",
        "predicted_index = predict_class(model_ng, image_path)\n",
        "predicted_label = get_class_label(predicted_index)\n",
        "print(f\"The predicted label for the image is: {predicted_label}\")\n"
      ],
      "metadata": {
        "colab": {
          "base_uri": "https://localhost:8080/"
        },
        "id": "Jh_LWeAscQL0",
        "outputId": "52084d66-8485-4425-ffc6-2e5fa72531a8"
      },
      "execution_count": null,
      "outputs": [
        {
          "output_type": "stream",
          "name": "stdout",
          "text": [
            "1/1 [==============================] - 0s 140ms/step\n",
            "The predicted label for the image is: normal\n"
          ]
        }
      ]
    },
    {
      "cell_type": "code",
      "source": [
        "image_path = '/content/drive/MyDrive/datasets/real_combined_last_dataset/test/glaucoma/224.png'\n",
        "\n",
        "predicted_index = predict_class(ensemble_model, image_path)\n",
        "predicted_label = get_class_label(predicted_index)\n",
        "print(f\"The predicted label for the image is: {predicted_label}\")\n"
      ],
      "metadata": {
        "id": "0cITVL5MhOVJ",
        "colab": {
          "base_uri": "https://localhost:8080/"
        },
        "outputId": "97d7c810-bae1-40bf-f083-1fc59647c58a"
      },
      "execution_count": null,
      "outputs": [
        {
          "output_type": "stream",
          "name": "stdout",
          "text": [
            "1/1 [==============================] - 0s 30ms/step\n",
            "The predicted label for the image is: glaucoma\n"
          ]
        }
      ]
    },
    {
      "cell_type": "code",
      "source": [],
      "metadata": {
        "id": "1Qh28urA_d5n"
      },
      "execution_count": null,
      "outputs": []
    }
  ]
}