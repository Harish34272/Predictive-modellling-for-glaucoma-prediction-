{
  "cells": [
    {
      "cell_type": "markdown",
      "metadata": {
        "id": "view-in-github",
        "colab_type": "text"
      },
      "source": [
        "<a href=\"https://colab.research.google.com/github/Harish34272/Predictive-modellling-for-glaucoma-prediction-/blob/main/vgg16_early_glaucoma.ipynb\" target=\"_parent\"><img src=\"https://colab.research.google.com/assets/colab-badge.svg\" alt=\"Open In Colab\"/></a>"
      ]
    },
    {
      "cell_type": "code",
      "execution_count": null,
      "metadata": {
        "colab": {
          "base_uri": "https://localhost:8080/"
        },
        "id": "uk8Qq_gXJMXE",
        "outputId": "785b4d27-c35e-4f8f-a771-4e92e033c811"
      },
      "outputs": [
        {
          "output_type": "stream",
          "name": "stdout",
          "text": [
            "Mounted at /content/drive\n"
          ]
        }
      ],
      "source": [
        "from google.colab import drive\n",
        "drive.mount('/content/drive')"
      ]
    },
    {
      "cell_type": "code",
      "execution_count": null,
      "metadata": {
        "id": "-YTJo2QQJSQS"
      },
      "outputs": [],
      "source": [
        "import cv2\n",
        "import os\n",
        "import numpy as np\n",
        "import pandas as pd\n",
        "import matplotlib.pyplot as plt\n",
        "import seaborn as sns\n",
        "import tensorflow as tf\n",
        "from keras.models import Sequential, Model , load_model\n",
        "from keras.preprocessing.image import ImageDataGenerator , load_img, img_to_array\n",
        "from keras.optimizers import Adam\n",
        "from keras.applications import VGG16,ResNet50\n",
        "from keras.layers import Dense ,Flatten , Conv2D, MaxPooling2D, UpSampling2D, MaxPool2D, BatchNormalization, Activation , Add , Input\n",
        "from keras.layers import GlobalAveragePooling2D\n",
        "from scipy.signal.windows import gaussian\n",
        "from sklearn.metrics import accuracy_score, precision_score, recall_score, f1_score, confusion_matrix\n",
        "from sklearn.metrics import roc_curve, auc,classification_report, confusion_matrix\n",
        "from sklearn.utils.class_weight import compute_class_weight\n",
        "from keras.callbacks import ModelCheckpoint,EarlyStopping\n",
        "from imblearn.over_sampling import RandomOverSampler\n",
        "from keras.utils import to_categorical\n",
        "from sklearn.model_selection import train_test_split\n",
        "clahe = cv2.createCLAHE(clipLimit=3.0, tileGridSize=(8,8))"
      ]
    },
    {
      "cell_type": "code",
      "execution_count": null,
      "metadata": {
        "id": "Jq0kOu9PJk_K"
      },
      "outputs": [],
      "source": [
        "img_height = 224\n",
        "img_width = 224\n",
        "batch_size = 32\n",
        "base_dirs = {\n",
        "    'train': r'/content/drive/MyDrive/datasets/real_combined_last_dataset/train',\n",
        "    'test': r'/content/drive/MyDrive/datasets/real_combined_last_dataset/test',\n",
        "    'val': r'/content/drive/MyDrive/datasets/real_combined_last_dataset/val'\n",
        "}"
      ]
    },
    {
      "cell_type": "code",
      "execution_count": null,
      "metadata": {
        "colab": {
          "base_uri": "https://localhost:8080/"
        },
        "id": "mSWLHSVQKjYQ",
        "outputId": "06c501d6-47fc-486b-f297-f000b4f708da"
      },
      "outputs": [
        {
          "output_type": "stream",
          "name": "stdout",
          "text": [
            "Found 6207 images belonging to 3 classes.\n",
            "Found 819 images belonging to 3 classes.\n",
            "Found 801 images belonging to 3 classes.\n",
            "Length of training labels: 6207\n",
            "Number of images in the training directory: 6207\n",
            "Class indices in  {'glaucoma': 1, 'normal': 0, 'early_glaucoma': 2}\n"
          ]
        }
      ],
      "source": [
        "datagen_minority = ImageDataGenerator(\n",
        "    rescale=1./255,\n",
        "    rotation_range=40,  # Increase rotation range for more diversity\n",
        "    width_shift_range=0.3,\n",
        "\n",
        "    height_shift_range=0.3,\n",
        "    shear_range=0.25,\n",
        "    zoom_range=0.25,\n",
        "    horizontal_flip=True,\n",
        "    vertical_flip=True,\n",
        "    fill_mode='nearest'\n",
        ")\n",
        "\n",
        "def data_generator(directory):\n",
        "    # Use 'datagen_minority' for minority classes and 'datagen' for others\n",
        "    if 'normal' or 'early_glaucoma' in directory:\n",
        "        return datagen_minority.flow_from_directory(\n",
        "            directory,\n",
        "            target_size=(img_height, img_width),\n",
        "            batch_size=32,\n",
        "            class_mode='categorical',\n",
        "            shuffle=False,\n",
        "            seed=42\n",
        "        )\n",
        "    else:\n",
        "        return datagen.flow_from_directory(\n",
        "            directory,\n",
        "            target_size=(img_height, img_width),\n",
        "            batch_size=32,\n",
        "            class_mode='categorical',\n",
        "            shuffle=False,\n",
        "            seed=42\n",
        "        )\n",
        "\n",
        "train_ds = data_generator(base_dirs['train'])\n",
        "test_ds = data_generator(base_dirs['test'])\n",
        "val_ds = data_generator(base_dirs['val'])\n",
        "\n",
        "# Assuming labels are directly associated with filenames in the training directory\n",
        "class_indices = {'glaucoma': 1, 'normal': 0, 'early_glaucoma': 2}\n",
        "train_ds.class_indices = class_indices\n",
        "test_ds.class_indices = class_indices\n",
        "val_ds.class_indices = class_indices\n",
        "\n",
        "train_ds.classes = np.array([class_indices[label.split('/')[0]] for label in train_ds.filenames])\n",
        "\n",
        "print(\"Length of training labels:\", len(train_ds.classes))\n",
        "print(\"Number of images in the training directory:\", len(train_ds.filenames))\n",
        "print(f\"Class indices in \", test_ds.class_indices)"
      ]
    },
    {
      "cell_type": "code",
      "execution_count": null,
      "metadata": {
        "colab": {
          "base_uri": "https://localhost:8080/"
        },
        "id": "i5UAbpVwJlgn",
        "outputId": "00df2d61-66b5-40ec-f12f-4ba3341c85d3"
      },
      "outputs": [
        {
          "output_type": "stream",
          "name": "stdout",
          "text": [
            "Found 4404 images belonging to 1 classes.\n",
            "Found 571 images belonging to 1 classes.\n",
            "Found 570 images belonging to 1 classes.\n",
            "Class indices in  {'glaucoma': 1, 'normal': 0, 'early_glaucoma': 2}\n"
          ]
        }
      ],
      "source": [
        "datagen_glaucoma = ImageDataGenerator(\n",
        "    rescale=1./255,\n",
        "    rotation_range=20,\n",
        "    width_shift_range=0.2,\n",
        "    height_shift_range=0.2,\n",
        "    shear_range=0.15,\n",
        "    zoom_range=0.15,\n",
        "    horizontal_flip=True,\n",
        ")\n",
        "\n",
        "def data_generator(directory):\n",
        "    return datagen_glaucoma.flow_from_directory(\n",
        "        directory,\n",
        "        target_size=(img_height, img_width),\n",
        "        batch_size=batch_size,\n",
        "        classes=['glaucoma'],\n",
        "        class_mode='categorical',\n",
        "        shuffle=True,  # Set to True if you want to shuffle the data\n",
        "        seed=42\n",
        "    )\n",
        "\n",
        "train_ds = data_generator(base_dirs['train'])\n",
        "test_ds = data_generator(base_dirs['test'])\n",
        "val_ds = data_generator(base_dirs['val'])\n",
        "class_indices = {'glaucoma': 1, 'normal': 0, 'early_glaucoma': 2}\n",
        "train_ds.class_indices = class_indices\n",
        "test_ds.class_indices = class_indices\n",
        "val_ds.class_indices = class_indices\n",
        "print(f\"Class indices in \", train_ds.class_indices)"
      ]
    },
    {
      "cell_type": "code",
      "source": [
        "datagen_glaucoma = ImageDataGenerator(\n",
        "    rescale=1./255,\n",
        "    rotation_range=20,\n",
        "    width_shift_range=0.2,\n",
        "    height_shift_range=0.2,\n",
        "    shear_range=0.15,\n",
        "    zoom_range=0.15,\n",
        "    horizontal_flip=True,\n",
        ")\n",
        "\n",
        "def data_generator(directory):\n",
        "    return datagen_glaucoma.flow_from_directory(\n",
        "        directory,\n",
        "        target_size=(img_height, img_width),\n",
        "        batch_size=batch_size,\n",
        "        classes=['early_glaucoma','normal'],\n",
        "        class_mode='categorical',\n",
        "        shuffle=True,  # Set to True if you want to shuffle the data\n",
        "        seed=42\n",
        "    )\n",
        "\n",
        "train_ds = data_generator(base_dirs['train'])\n",
        "test_ds = data_generator(base_dirs['test'])\n",
        "val_ds = data_generator(base_dirs['val'])\n",
        "class_indices = {'normal': 0, 'early_glaucoma': 2}\n",
        "train_ds.class_indices = class_indices\n",
        "test_ds.class_indices = class_indices\n",
        "val_ds.class_indices = class_indices\n",
        "print(f\"Class indices in \", train_ds.class_indices)"
      ],
      "metadata": {
        "colab": {
          "base_uri": "https://localhost:8080/"
        },
        "id": "Iv0FIB3F7THQ",
        "outputId": "6259a285-e6f8-4174-cc3e-b50ef563a1da"
      },
      "execution_count": null,
      "outputs": [
        {
          "output_type": "stream",
          "name": "stdout",
          "text": [
            "Found 1803 images belonging to 2 classes.\n",
            "Found 248 images belonging to 2 classes.\n",
            "Found 231 images belonging to 2 classes.\n",
            "Class indices in  {'normal': 0, 'early_glaucoma': 2}\n"
          ]
        }
      ]
    },
    {
      "cell_type": "markdown",
      "metadata": {
        "id": "zPWYSbdyL5PX"
      },
      "source": [
        "datagen_normal = ImageDataGenerator(\n",
        "    rescale=1./255,\n",
        "    rotation_range=20,\n",
        "    width_shift_range=0.2,\n",
        "    height_shift_range=0.2,\n",
        "    shear_range=0.15,\n",
        "    zoom_range=0.15,\n",
        "    horizontal_flip=True,\n",
        ")\n",
        "\n",
        "def data_generator(directory):\n",
        "    return datagen_normal.flow_from_directory(\n",
        "        directory,\n",
        "        target_size=(img_height, img_width),\n",
        "        batch_size=batch_size,\n",
        "        classes=['normal'],\n",
        "        class_mode='categorical',\n",
        "        shuffle=True,  # Set to True if you want to shuffle the data\n",
        "        seed=42\n",
        "    )\n",
        "\n",
        "train_ds = data_generator(base_dirs['train'])\n",
        "test_ds = data_generator(base_dirs['test'])\n",
        "val_ds = data_generator(base_dirs['val'])"
      ]
    },
    {
      "cell_type": "markdown",
      "metadata": {
        "id": "7LqhZr-1L--j"
      },
      "source": [
        "datagen_early = ImageDataGenerator(\n",
        "    rescale=1./255,\n",
        "    rotation_range=20,\n",
        "    width_shift_range=0.2,\n",
        "    height_shift_range=0.2,\n",
        "    shear_range=0.15,\n",
        "    zoom_range=0.15,\n",
        "    horizontal_flip=True,\n",
        ")\n",
        "\n",
        "def data_generator(directory):\n",
        "    return datagen_early.flow_from_directory(\n",
        "        directory,\n",
        "        target_size=(img_height, img_width),\n",
        "        batch_size=batch_size,\n",
        "        classes=['early_glaucoma'],\n",
        "        class_mode='categorical',\n",
        "        shuffle=True,  # Set to True if you want to shuffle the data\n",
        "        seed=42\n",
        "    )\n",
        "\n",
        "train_ds = data_generator(base_dirs['train'])\n",
        "test_ds = data_generator(base_dirs['test'])\n",
        "val_ds = data_generator(base_dirs['val'])"
      ]
    },
    {
      "cell_type": "code",
      "execution_count": null,
      "metadata": {
        "id": "-qtOEzkdKdo0"
      },
      "outputs": [],
      "source": [
        "early_stopping = EarlyStopping(monitor='val_loss', patience=5, restore_best_weights=True)"
      ]
    },
    {
      "cell_type": "code",
      "execution_count": null,
      "metadata": {
        "id": "-awRfLE0Myk0"
      },
      "outputs": [],
      "source": [
        "def plot_train_history(history):\n",
        "    plt.figure(figsize=(15,5))\n",
        "    plt.subplot(1,2,1)\n",
        "    plt.plot(history.history['accuracy'])\n",
        "    plt.plot(history.history['val_accuracy'])\n",
        "    plt.title('Model accuracy')\n",
        "    plt.ylabel('accuracy')\n",
        "    plt.xlabel('epoch')\n",
        "    plt.legend(['train', 'validation'], loc='upper left')\n",
        "\n",
        "    plt.subplot(1,2,2)\n",
        "    plt.plot(history.history['loss'])\n",
        "    plt.plot(history.history['val_loss'])\n",
        "    plt.title('Model loss')\n",
        "    plt.ylabel('loss')\n",
        "    plt.xlabel('epoch')\n",
        "    plt.legend(['train', 'validation'], loc='upper left')\n",
        "    plt.show()"
      ]
    },
    {
      "cell_type": "code",
      "execution_count": null,
      "metadata": {
        "id": "FAHLVDYNM0GH"
      },
      "outputs": [],
      "source": [
        "def plot_confusion_matrix(true_labels, predicted_labels, class_names):\n",
        "    cm = confusion_matrix(true_labels, predicted_labels)\n",
        "    cm = cm.astype('float') / cm.sum(axis=1)[:, np.newaxis]  # Normalize confusion matrix\n",
        "\n",
        "    plt.figure(figsize=(8, 6))\n",
        "    sns.heatmap(cm, annot=True, fmt=\".2f\", cmap=\"Blues\", xticklabels=class_names, yticklabels=class_names)\n",
        "    plt.title('Confusion Matrix')\n",
        "    plt.xlabel('Predicted Labels')\n",
        "    plt.ylabel('True Labels')\n",
        "    plt.show()"
      ]
    },
    {
      "cell_type": "code",
      "execution_count": null,
      "metadata": {
        "id": "TCuWRE4wM2v_"
      },
      "outputs": [],
      "source": [
        "def vgg16_layers(base_model):\n",
        "    model = Sequential()\n",
        "\n",
        "    model.add(base_model)\n",
        "    # Add a GlobalAveragePooling2D layer instead of the previous MaxPooling2D layer\n",
        "    model.add(GlobalAveragePooling2D())\n",
        "\n",
        "    # Add your custom fully connected layers\n",
        "    model.add(Dense(units=4096, activation='relu'))\n",
        "    model.add(Dense(units=4096, activation='relu'))\n",
        "    model.add(Dense(units=3, activation='softmax'))\n",
        "\n",
        "    # Add Optimizer and check accuracy metrics\n",
        "    model.compile(optimizer=Adam(learning_rate=1e-5), loss='categorical_crossentropy', metrics=['accuracy'])\n",
        "    return model\n"
      ]
    },
    {
      "cell_type": "code",
      "execution_count": null,
      "metadata": {
        "id": "04e5uODRM5EK"
      },
      "outputs": [],
      "source": [
        "def vgg16_model(model, train_ds, test_ds):\n",
        "    class_labels = np.unique(train_ds.classes)\n",
        "    class_indices = {label: index for index, label in enumerate(class_labels)}\n",
        "\n",
        "    # Calculate class weights manually\n",
        "    class_counts = np.bincount(train_ds.classes)\n",
        "    total_samples = np.sum(class_counts)\n",
        "    class_weights = {0: 4.0, 1: 1.0, 2: 5.0}\n",
        "    history = model.fit(train_ds, epochs=10, callbacks=[early_stopping], validation_data=val_ds, class_weight=class_weights, verbose=1)\n",
        "\n",
        "\n",
        "    #model.save('datasets/real_combined_last_dataset2/vgg16(copy 20 1).h5', save_format='h5')\n",
        "    test_result = model.evaluate(test_ds)\n",
        "    print(f\"Test Loss: {test_result[0]}, Test Accuracy: {test_result[1]}\")\n",
        "    predictions = model.predict(test_ds)\n",
        "    predicted_labels = np.argmax(predictions, axis=1)\n",
        "    true_labels = test_ds.classes\n",
        "\n",
        "# Visualize the confusion matrix\n",
        "    class_names = ['normal', 'glaucoma', 'early_glaucoma']  # Update with your class names\n",
        "    plot_confusion_matrix(true_labels, predicted_labels, class_names)\n",
        "    print(\"Class Labels:\")\n",
        "    for i, class_name in enumerate(class_names):\n",
        "        print(f\"{i}: {class_name}\")\n",
        "    report = classification_report(true_labels, predicted_labels, target_names=class_names)\n",
        "    print(\"Classification Report:\\n\", report)\n",
        "    plots = plot_train_history(history)\n",
        "    return model,history"
      ]
    },
    {
      "cell_type": "code",
      "execution_count": null,
      "metadata": {
        "colab": {
          "base_uri": "https://localhost:8080/"
        },
        "id": "rEF_wGHRM8_C",
        "outputId": "3ef9dee0-781f-40a3-8df6-3dc8fa621734"
      },
      "outputs": [
        {
          "output_type": "stream",
          "name": "stdout",
          "text": [
            "Epoch 1/5\n",
            "57/57 [==============================] - 3740s 65s/step - loss: 0.4197 - accuracy: 0.8286 - val_loss: 0.2886 - val_accuracy: 0.8268\n",
            "Epoch 2/5\n",
            "57/57 [==============================] - 3650s 64s/step - loss: 0.2606 - accuracy: 0.8697 - val_loss: 0.2842 - val_accuracy: 0.8225\n",
            "Epoch 3/5\n",
            "57/57 [==============================] - 3633s 64s/step - loss: 0.2361 - accuracy: 0.8697 - val_loss: 0.2209 - val_accuracy: 0.8658\n",
            "Epoch 4/5\n",
            "57/57 [==============================] - 3615s 63s/step - loss: 0.2058 - accuracy: 0.8808 - val_loss: 0.2772 - val_accuracy: 0.8528\n",
            "Epoch 5/5\n",
            "57/57 [==============================] - 3621s 63s/step - loss: 0.1888 - accuracy: 0.9007 - val_loss: 0.2669 - val_accuracy: 0.8615\n"
          ]
        }
      ],
      "source": [
        "def fine_tune_model(model, train_ds, val_ds, epochs=10):\n",
        "    # Freeze layers except for the last few\n",
        "    for layer in model.layers[:-6]:\n",
        "        layer.trainable = False\n",
        "\n",
        "    model.compile(optimizer=Adam(learning_rate=1e-5), loss='categorical_crossentropy', metrics=['accuracy'])\n",
        "\n",
        "    # Continue training on your dataset\n",
        "    history = model.fit(train_ds, epochs=epochs, callbacks=[early_stopping], validation_data=val_ds, verbose=1)\n",
        "\n",
        "    return model, history\n",
        "\n",
        "# Load the pre-trained model\n",
        "base_model = VGG16(weights='imagenet', include_top=False, input_shape=(224, 224, 3))\n",
        "\n",
        "# Add your custom layers on top of the pre-trained model\n",
        "g_model = vgg16_layers(base_model)\n",
        "\n",
        "# Fine-tune the model\n",
        "g_model, g_history = fine_tune_model(g_model, train_ds, val_ds, epochs=5)  # You can adjust the number of epochs\n",
        "\n",
        "# Save the fine-tuned model\n",
        "model_path = '/content/drive/MyDrive/datasets/real_combined_last_dataset/glaucoma.keras'\n",
        "g_model.save(model_path)\n"
      ]
    },
    {
      "cell_type": "code",
      "execution_count": null,
      "metadata": {
        "id": "CkQxsQa_NuUa",
        "colab": {
          "base_uri": "https://localhost:8080/",
          "height": 466
        },
        "outputId": "1f02402b-549d-443b-c972-f5679b28781b"
      },
      "outputs": [
        {
          "output_type": "display_data",
          "data": {
            "text/plain": [
              "<Figure size 1500x500 with 2 Axes>"
            ],
            "image/png": "[encoded data removed]"
          },
          "metadata": {}
        }
      ],
      "source": [
        "plot_train_history(g_history)"
      ]
    },
    {
      "cell_type": "code",
      "source": [
        "test_result = g_model.evaluate(test_ds)\n",
        "print(f\"Test Loss: {test_result[0]}, Test Accuracy: {test_result[1]}\")\n",
        "predictions_g = g_model.predict(test_ds)\n",
        "predicted_g_labels = np.argmax(predictions_g, axis=1)\n",
        "true_labels = test_ds.classes\n",
        "\n",
        "# Visualize the confusion matrix\n",
        "class_names = ['normal', 'early_glaucoma']  # Update with your class names\n",
        "plot_confusion_matrix(true_labels, predicted_g_labels, class_names)"
      ],
      "metadata": {
        "colab": {
          "base_uri": "https://localhost:8080/",
          "height": 616
        },
        "id": "VozfZphQRIrC",
        "outputId": "a77b790b-7101-4b29-b33b-2d102dcb95fa"
      },
      "execution_count": null,
      "outputs": [
        {
          "output_type": "stream",
          "name": "stdout",
          "text": [
            "8/8 [==============================] - 140s 17s/step - loss: 0.1899 - accuracy: 0.9153\n",
            "Test Loss: 0.1898815929889679, Test Accuracy: 0.9153226017951965\n",
            "8/8 [==============================] - 142s 17s/step\n"
          ]
        },
        {
          "output_type": "display_data",
          "data": {
            "text/plain": [
              "<Figure size 800x600 with 2 Axes>"
            ],
            "image/png": "[encoded data removed]"
          },
          "metadata": {}
        }
      ]
    },
    {
      "cell_type": "code",
      "source": [
        "print(\"Class Labels:\")\n",
        "for i, class_name in enumerate(train_ds.class_indices):\n",
        "      print(f\"{i}: {class_name}\")\n",
        "report = classification_report(true_labels, predicted_g_labels, target_names=class_names)\n",
        "print(\"Classification Report:\\n\", report)"
      ],
      "metadata": {
        "colab": {
          "base_uri": "https://localhost:8080/"
        },
        "id": "0BOEgjh2WJhL",
        "outputId": "f99edb6e-16d5-4ca1-ec4f-6075dc11a702"
      },
      "execution_count": null,
      "outputs": [
        {
          "output_type": "stream",
          "name": "stdout",
          "text": [
            "Class Labels:\n",
            "0: glaucoma\n",
            "1: normal\n",
            "2: early_glaucoma\n",
            "Classification Report:\n",
            "                 precision    recall  f1-score   support\n",
            "\n",
            "        normal       0.31      0.26      0.28        58\n",
            "early_glaucoma       0.78      0.82      0.80       190\n",
            "\n",
            "      accuracy                           0.69       248\n",
            "     macro avg       0.55      0.54      0.54       248\n",
            "  weighted avg       0.67      0.69      0.68       248\n",
            "\n"
          ]
        }
      ]
    },
    {
      "cell_type": "code",
      "source": [
        "import cv2\n",
        "import numpy as np\n",
        "\n",
        "def preprocess_image(image_path):\n",
        "    # Read the image\n",
        "    img = cv2.imread(image_path)\n",
        "    # Resize the image to match the model's expected sizing\n",
        "    img = cv2.resize(img, (224, 224))\n",
        "    # Expand the dimensions to match the model's expected input shape\n",
        "    img = np.expand_dims(img, axis=0)\n",
        "    # Normalize the pixel values to be between 0 and 1\n",
        "    img = img / 255.0\n",
        "    return img\n"
      ],
      "metadata": {
        "id": "8gWU1odBRhki"
      },
      "execution_count": null,
      "outputs": []
    },
    {
      "cell_type": "code",
      "source": [
        "def predict_class(model, image_path):\n",
        "    # Preprocess the image\n",
        "    img = preprocess_image(image_path)\n",
        "    # Make predictions\n",
        "    predictions = model.predict(img)\n",
        "    # Get the predicted class index\n",
        "    predicted_class_index = np.argmax(predictions)\n",
        "    return predicted_class_index\n"
      ],
      "metadata": {
        "id": "H1SNVqJsVpaq"
      },
      "execution_count": null,
      "outputs": []
    },
    {
      "cell_type": "code",
      "source": [
        "def get_class_label(predicted_class_index):\n",
        "    class_labels = ['normal', 'early_glaucoma']\n",
        "    return class_labels[predicted_class_index]"
      ],
      "metadata": {
        "id": "he-NXWFXVsgj"
      },
      "execution_count": null,
      "outputs": []
    },
    {
      "cell_type": "code",
      "source": [
        "image_path = '/content/drive/MyDrive/datasets/real_combined_last_dataset/train/early_glaucoma/232.png'\n",
        "\n",
        "predicted_index = predict_class(g_model, image_path)\n",
        "predicted_label = get_class_label(predicted_index)\n",
        "print(f\"The predicted label for the image is: {predicted_label}\")\n"
      ],
      "metadata": {
        "colab": {
          "base_uri": "https://localhost:8080/"
        },
        "id": "zJYVavzdVuuh",
        "outputId": "1bbb087e-b795-443e-fb51-0b05f9035b0d"
      },
      "execution_count": null,
      "outputs": [
        {
          "output_type": "stream",
          "name": "stdout",
          "text": [
            "1/1 [==============================] - 0s 491ms/step\n",
            "The predicted label for the image is: early_glaucoma\n"
          ]
        }
      ]
    },
    {
      "cell_type": "code",
      "source": [
        "image_path = '/content/drive/MyDrive/datasets/real_combined_last_dataset/train/normal/1.png'\n",
        "\n",
        "predicted_index = predict_class(g_model, image_path)\n",
        "predicted_label = get_class_label(predicted_index)\n",
        "print(f\"The predicted label for the image is: {predicted_label}\")\n"
      ],
      "metadata": {
        "colab": {
          "base_uri": "https://localhost:8080/"
        },
        "id": "DgLzMaO2V5tB",
        "outputId": "d862d052-5904-4715-dca6-1e0424b063f1"
      },
      "execution_count": null,
      "outputs": [
        {
          "output_type": "stream",
          "name": "stdout",
          "text": [
            "1/1 [==============================] - 1s 806ms/step\n",
            "The predicted label for the image is: early_glaucoma\n"
          ]
        }
      ]
    },
    {
      "cell_type": "code",
      "source": [
        "print(\"Class Labels:\")\n",
        "for class_name, i in train_ds.class_indices.items():\n",
        "    print(f\"{i}: {class_name}\")\n"
      ],
      "metadata": {
        "id": "wtBHY0bRYAAs",
        "colab": {
          "base_uri": "https://localhost:8080/"
        },
        "outputId": "25999dbb-b7c3-4cac-a1db-53d6f4470aa8"
      },
      "execution_count": null,
      "outputs": [
        {
          "output_type": "stream",
          "name": "stdout",
          "text": [
            "Class Labels:\n",
            "0: normal\n",
            "2: early_glaucoma\n"
          ]
        }
      ]
    },
    {
      "cell_type": "code",
      "source": [],
      "metadata": {
        "id": "BTfDoX67rNtW"
      },
      "execution_count": null,
      "outputs": []
    }
  ],
  "metadata": {
    "colab": {
      "provenance": [],
      "authorship_tag": "ABX9TyOPcXiNfCx3t/8o7sNYSext",
      "include_colab_link": true
    },
    "kernelspec": {
      "display_name": "Python 3",
      "name": "python3"
    },
    "language_info": {
      "name": "python"
    }
  },
  "nbformat": 4,
  "nbformat_minor": 0
}